{
  "nbformat": 4,
  "nbformat_minor": 0,
  "metadata": {
    "colab": {
      "provenance": [],
      "toc_visible": true,
      "authorship_tag": "ABX9TyOPgUEVIWG+1Ai2wrvLmH0X",
      "include_colab_link": true
    },
    "kernelspec": {
      "name": "python3",
      "display_name": "Python 3"
    },
    "language_info": {
      "name": "python"
    }
  },
  "cells": [
    {
      "cell_type": "markdown",
      "metadata": {
        "id": "view-in-github",
        "colab_type": "text"
      },
      "source": [
        "<a href=\"https://colab.research.google.com/github/Susilvav03/Taller00_IO1/blob/main/Taller_00_IO1.ipynb\" target=\"_parent\"><img src=\"https://colab.research.google.com/assets/colab-badge.svg\" alt=\"Open In Colab\"/></a>"
      ]
    },
    {
      "cell_type": "markdown",
      "source": [
        "# Ejercicio de Google Colab\n"
      ],
      "metadata": {
        "id": "RDJO6Z8IdKSl"
      }
    },
    {
      "cell_type": "code",
      "execution_count": 1,
      "metadata": {
        "colab": {
          "base_uri": "https://localhost:8080/"
        },
        "id": "e4HnmE4TcY0F",
        "outputId": "c1d4f08e-de92-46fa-ebc2-efe17f280697"
      },
      "outputs": [
        {
          "output_type": "stream",
          "name": "stdout",
          "text": [
            "Hola Mundo\n"
          ]
        }
      ],
      "source": [
        "#Escribir programa e prueba\n",
        "print ('Hola Mundo')"
      ]
    },
    {
      "cell_type": "markdown",
      "source": [],
      "metadata": {
        "id": "PcIq9KWIdWEl"
      }
    },
    {
      "cell_type": "markdown",
      "source": [
        "# Segundo ejemplo"
      ],
      "metadata": {
        "id": "BHDrQlBudkcW"
      }
    },
    {
      "cell_type": "code",
      "source": [
        "#Personlizar las casillas de código\n",
        "print ('Esto es una lista')\n",
        "\n",
        "lista_0=['a','b','c']\n",
        "\n",
        "#Motrar lista\n",
        "print (lista_0)\n",
        "\n",
        "#Crear un ciclo for\n",
        "for i in lista_0:\n",
        "  print (i)"
      ],
      "metadata": {
        "colab": {
          "base_uri": "https://localhost:8080/"
        },
        "id": "L1pDLJSadoYF",
        "outputId": "27c825f4-355a-4bab-ce04-a408ec0d9e94"
      },
      "execution_count": 4,
      "outputs": [
        {
          "output_type": "stream",
          "name": "stdout",
          "text": [
            "Esto es una lista\n",
            "['a', 'b', 'c']\n",
            "a\n",
            "b\n",
            "c\n"
          ]
        }
      ]
    }
  ]
}